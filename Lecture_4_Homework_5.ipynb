{
 "cells": [
  {
   "cell_type": "code",
   "execution_count": 43,
   "id": "cc4ba310",
   "metadata": {},
   "outputs": [],
   "source": [
    "acs=[[1,2,3],[1,4,5,7]]\n",
    "def maxWealth(accounts):\n",
    "    total=0\n",
    "    for elements in range(0,len(accounts)):\n",
    "        for index in range(0,len(elements)):\n",
    "            total=total+elements[index]\n",
    "            \n",
    "            return total"
   ]
  },
  {
   "cell_type": "code",
   "execution_count": 44,
   "id": "7ac1ed0a",
   "metadata": {},
   "outputs": [
    {
     "ename": "TypeError",
     "evalue": "object of type 'int' has no len()",
     "output_type": "error",
     "traceback": [
      "\u001b[1;31m---------------------------------------------------------------------------\u001b[0m",
      "\u001b[1;31mTypeError\u001b[0m                                 Traceback (most recent call last)",
      "\u001b[1;32m<ipython-input-44-228b5ef78933>\u001b[0m in \u001b[0;36m<module>\u001b[1;34m\u001b[0m\n\u001b[1;32m----> 1\u001b[1;33m \u001b[0mmaxWealth\u001b[0m\u001b[1;33m(\u001b[0m\u001b[0macs\u001b[0m\u001b[1;33m)\u001b[0m\u001b[1;33m\u001b[0m\u001b[1;33m\u001b[0m\u001b[0m\n\u001b[0m",
      "\u001b[1;32m<ipython-input-43-db9d413227ff>\u001b[0m in \u001b[0;36mmaxWealth\u001b[1;34m(accounts)\u001b[0m\n\u001b[0;32m      3\u001b[0m     \u001b[0mtotal\u001b[0m\u001b[1;33m=\u001b[0m\u001b[1;36m0\u001b[0m\u001b[1;33m\u001b[0m\u001b[1;33m\u001b[0m\u001b[0m\n\u001b[0;32m      4\u001b[0m     \u001b[1;32mfor\u001b[0m \u001b[0melements\u001b[0m \u001b[1;32min\u001b[0m \u001b[0mrange\u001b[0m\u001b[1;33m(\u001b[0m\u001b[1;36m0\u001b[0m\u001b[1;33m,\u001b[0m\u001b[0mlen\u001b[0m\u001b[1;33m(\u001b[0m\u001b[0maccounts\u001b[0m\u001b[1;33m)\u001b[0m\u001b[1;33m)\u001b[0m\u001b[1;33m:\u001b[0m\u001b[1;33m\u001b[0m\u001b[1;33m\u001b[0m\u001b[0m\n\u001b[1;32m----> 5\u001b[1;33m         \u001b[1;32mfor\u001b[0m \u001b[0mindex\u001b[0m \u001b[1;32min\u001b[0m \u001b[0mrange\u001b[0m\u001b[1;33m(\u001b[0m\u001b[1;36m0\u001b[0m\u001b[1;33m,\u001b[0m\u001b[0mlen\u001b[0m\u001b[1;33m(\u001b[0m\u001b[0melements\u001b[0m\u001b[1;33m)\u001b[0m\u001b[1;33m)\u001b[0m\u001b[1;33m:\u001b[0m\u001b[1;33m\u001b[0m\u001b[1;33m\u001b[0m\u001b[0m\n\u001b[0m\u001b[0;32m      6\u001b[0m             \u001b[0mtotal\u001b[0m\u001b[1;33m=\u001b[0m\u001b[0mtotal\u001b[0m\u001b[1;33m+\u001b[0m\u001b[0melements\u001b[0m\u001b[1;33m[\u001b[0m\u001b[0mindex\u001b[0m\u001b[1;33m]\u001b[0m\u001b[1;33m\u001b[0m\u001b[1;33m\u001b[0m\u001b[0m\n\u001b[0;32m      7\u001b[0m \u001b[1;33m\u001b[0m\u001b[0m\n",
      "\u001b[1;31mTypeError\u001b[0m: object of type 'int' has no len()"
     ]
    }
   ],
   "source": [
    "maxWealth(acs)"
   ]
  },
  {
   "cell_type": "code",
   "execution_count": 28,
   "id": "4c7a87de",
   "metadata": {},
   "outputs": [
    {
     "name": "stdout",
     "output_type": "stream",
     "text": [
      "3\n",
      "4\n",
      "6\n",
      "22\n",
      "22\n",
      "22\n"
     ]
    }
   ],
   "source": [
    "ac=[[1,2,3],[4,5,6,7]]\n",
    "print (len(ac[0]))\n",
    "print (len(ac[1]))\n",
    "print (sum(ac[0]))\n",
    "print (sum(ac[1]))\n",
    "d=sum(ac[0])\n",
    "e=sum(ac[1])      \n",
    "c=max(d,e)\n",
    "print(c)\n",
    "print (max(d,e))"
   ]
  },
  {
   "cell_type": "code",
   "execution_count": 55,
   "id": "8969c2f6",
   "metadata": {},
   "outputs": [
    {
     "name": "stdout",
     "output_type": "stream",
     "text": [
      "[1, 2, 3]\n",
      "1\n",
      "3\n",
      "6\n",
      "[1, 4, 5, 7]\n",
      "7\n",
      "11\n",
      "16\n",
      "23\n"
     ]
    }
   ],
   "source": [
    "acs=[[1,2,3],[1,4,5,7]]\n",
    "#def maxWealth(accounts):\n",
    "total=0\n",
    "for elements in (acs):\n",
    "    #list=[elements]\n",
    "    print (elements)\n",
    "    for index in range(len(elements)):\n",
    "        total=total+elements[index]\n",
    "        print(total)\n",
    "        #for index in range(0,len(elements)):\n",
    "         #   total=total+elements[index]\n",
    "            \n",
    "          #  return total\n"
   ]
  },
  {
   "cell_type": "code",
   "execution_count": 75,
   "id": "800b1eb5",
   "metadata": {},
   "outputs": [
    {
     "name": "stdout",
     "output_type": "stream",
     "text": [
      "[1, 2, 3, 10]\n",
      "16\n"
     ]
    }
   ],
   "source": [
    "s=[1,2,3,10]\n",
    "list=[]\n",
    "for el in s:\n",
    "    \n",
    "   # a=el  \n",
    "    list.append(el)\n",
    "    \n",
    "#print(a)\n",
    "print(list)\n",
    "total=sum(list)\n",
    "print(total)"
   ]
  },
  {
   "cell_type": "code",
   "execution_count": 94,
   "id": "ccebbec2",
   "metadata": {},
   "outputs": [
    {
     "name": "stdout",
     "output_type": "stream",
     "text": [
      "[1, 5, 7]\n",
      "[13]\n",
      "[13]\n",
      "[2, 8, 9]\n",
      "[19]\n",
      "[13, 19]\n",
      "largest= 19\n"
     ]
    }
   ],
   "source": [
    "s=[[1,5,7],[2,8,9]]\n",
    "list=[]\n",
    "for el in s:\n",
    "    print(el)\n",
    "    x=[sum(el)]\n",
    "    list.append(sum(el))\n",
    "    \n",
    "   # for i in el:\n",
    "       # print(i)\n",
    "    #    x=sum(el)\n",
    "        \n",
    "    print(x)\n",
    "    print(list)\n",
    "\n",
    "list.sort()\n",
    "print (\"largest=\",list[-1])\n",
    "   \n",
    "\n",
    "#     x=el\n",
    "#     list.append(x)\n",
    "#     total=sum(list)\n",
    "#     print (total)\n",
    "\n",
    "# print (total)\n",
    "    "
   ]
  },
  {
   "cell_type": "code",
   "execution_count": 105,
   "id": "0fcb94fb",
   "metadata": {},
   "outputs": [],
   "source": [
    "s=[[2,3,4],[7,9,8]]\n",
    "def maxWealth(tk):\n",
    "    \n",
    "    list=[]\n",
    "    for el in tk:\n",
    "        list.append(sum(el))\n",
    "    list.sort()\n",
    "    return list[-1]\n",
    "\n",
    "    "
   ]
  },
  {
   "cell_type": "code",
   "execution_count": 106,
   "id": "e3c292be",
   "metadata": {},
   "outputs": [
    {
     "data": {
      "text/plain": [
       "24"
      ]
     },
     "execution_count": 106,
     "metadata": {},
     "output_type": "execute_result"
    }
   ],
   "source": [
    "maxWealth(s)"
   ]
  },
  {
   "cell_type": "code",
   "execution_count": null,
   "id": "ace5bc0a",
   "metadata": {},
   "outputs": [],
   "source": []
  }
 ],
 "metadata": {
  "kernelspec": {
   "display_name": "Python 3",
   "language": "python",
   "name": "python3"
  },
  "language_info": {
   "codemirror_mode": {
    "name": "ipython",
    "version": 3
   },
   "file_extension": ".py",
   "mimetype": "text/x-python",
   "name": "python",
   "nbconvert_exporter": "python",
   "pygments_lexer": "ipython3",
   "version": "3.8.8"
  }
 },
 "nbformat": 4,
 "nbformat_minor": 5
}
