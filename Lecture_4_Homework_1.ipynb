{
 "cells": [
  {
   "cell_type": "markdown",
   "id": "f6f5a05b",
   "metadata": {},
   "source": [
    "- <b> Python Fundamentals HomeWork 4"
   ]
  },
  {
   "cell_type": "markdown",
   "id": "f024594b",
   "metadata": {},
   "source": [
    "<b>LeetCode Problem 01:</b> Defanging an IP Address\n",
    "Given a valid (IPv4) IP address, return a defanged version of that IP address.\n",
    "\n",
    "A defanged IP address replaces every period \".\" with \"[.]\"\n",
    "\n",
    "Example 1:\n",
    "Input: address = \"1.1.1.1\"\n",
    "Output: \"1[.]1[.]1[.]1\"\n",
    "\n",
    "Example 2:\n",
    "Input: address = \"255.100.50.0\"\n",
    "Output: \"255[.]100[.]50[.]0\""
   ]
  },
  {
   "cell_type": "code",
   "execution_count": 9,
   "id": "cb261cc3",
   "metadata": {},
   "outputs": [
    {
     "name": "stdout",
     "output_type": "stream",
     "text": [
      "1.1.1.1\n",
      "<class 'str'>\n",
      "1[.]1[.]1[.]1\n"
     ]
    }
   ],
   "source": [
    "address = \"1.1.1.1\"\n",
    "print (address)\n",
    "print (type(address))\n",
    "\n",
    "x = address.replace(\".\",\"[.]\")\n",
    "print (x)"
   ]
  },
  {
   "cell_type": "code",
   "execution_count": null,
   "id": "b510ec8c",
   "metadata": {},
   "outputs": [],
   "source": []
  }
 ],
 "metadata": {
  "kernelspec": {
   "display_name": "Python 3",
   "language": "python",
   "name": "python3"
  },
  "language_info": {
   "codemirror_mode": {
    "name": "ipython",
    "version": 3
   },
   "file_extension": ".py",
   "mimetype": "text/x-python",
   "name": "python",
   "nbconvert_exporter": "python",
   "pygments_lexer": "ipython3",
   "version": "3.8.8"
  }
 },
 "nbformat": 4,
 "nbformat_minor": 5
}
