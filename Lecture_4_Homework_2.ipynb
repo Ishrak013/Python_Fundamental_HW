{
 "cells": [
  {
   "cell_type": "markdown",
   "id": "4e91fb5d",
   "metadata": {},
   "source": [
    "<b>LeetCode Problem 02:</b> Goal Parser Interpretation\n",
    "You own a Goal Parser that can interpret a string command. The command consists of an alphabet of \"G\", \"()\" and/or \"(al)\" in some order. The Goal Parser will interpret \"G\" as the string \"G\", \"()\" as the string \"o\", and \"(al)\" as the string \"al\". The interpreted strings are then concatenated in the original order.\n",
    "\n",
    "Given the string command, return the Goal Parser's interpretation of command.\n",
    "\n",
    "Example 1:\n",
    "Input: command = \"G()(al)\"\n",
    "Output: \"Goal\" Explanation: The Goal Parser interprets the command as follows: G -> G () -> o (al) -> al The final concatenated result is \"Goal\".\n",
    "\n",
    "Example 2:\n",
    "Input: command = \"G()()()()(al)\"\n",
    "Output: \"Gooooal\"\n",
    "\n",
    "Example 3:\n",
    "Input: command = \"(al)G(al)()()G\"\n",
    "Output: \"alGalooG\""
   ]
  },
  {
   "cell_type": "code",
   "execution_count": 2,
   "id": "54920079",
   "metadata": {},
   "outputs": [
    {
     "name": "stdout",
     "output_type": "stream",
     "text": [
      "Goal\n"
     ]
    }
   ],
   "source": [
    "command = \"G()(al)\"\n",
    "\n",
    "corrected = command.replace(\"()\",\"o\").replace(\"(al)\",\"al\")\n",
    "\n",
    "print (corrected)"
   ]
  },
  {
   "cell_type": "code",
   "execution_count": 3,
   "id": "e06b2efa",
   "metadata": {},
   "outputs": [
    {
     "name": "stdout",
     "output_type": "stream",
     "text": [
      "Goooooooal\n"
     ]
    }
   ],
   "source": [
    "command = \"G()()()()()()()(al)\"\n",
    "\n",
    "corrected = command.replace(\"()\",\"o\").replace(\"(al)\",\"al\")\n",
    "\n",
    "print (corrected)"
   ]
  },
  {
   "cell_type": "code",
   "execution_count": null,
   "id": "15aa2b12",
   "metadata": {},
   "outputs": [],
   "source": []
  }
 ],
 "metadata": {
  "kernelspec": {
   "display_name": "Python 3",
   "language": "python",
   "name": "python3"
  },
  "language_info": {
   "codemirror_mode": {
    "name": "ipython",
    "version": 3
   },
   "file_extension": ".py",
   "mimetype": "text/x-python",
   "name": "python",
   "nbconvert_exporter": "python",
   "pygments_lexer": "ipython3",
   "version": "3.8.8"
  }
 },
 "nbformat": 4,
 "nbformat_minor": 5
}
