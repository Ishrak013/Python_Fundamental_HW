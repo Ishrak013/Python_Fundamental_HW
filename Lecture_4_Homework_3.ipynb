{
 "cells": [
  {
   "cell_type": "markdown",
   "id": "aff8d4cc",
   "metadata": {},
   "source": [
    "<b>LeetCode Problem 03:</b> Check If Two String Arrays are Equivalent\n",
    "Given two string arrays word1 and word2, return true if the two arrays represent the same string, and false otherwise.\n",
    "\n",
    "A string is represented by an array if the array elements concatenated in order forms the string.\n",
    "\n",
    "Example 1:\n",
    "Input: word1 = [\"ab\", \"c\"], word2 = [\"a\", \"bc\"]\n",
    "Output: true\n",
    "Explanation:\n",
    "word1 represents string \"ab\" + \"c\" -> \"abc\"\n",
    "word2 represents string \"a\" + \"bc\" -> \"abc\"\n",
    "The strings are the same, so return true.\n",
    "\n",
    "Example 2:\n",
    "Input: word1 = [\"a\", \"cb\"], word2 = [\"ab\", \"c\"]\n",
    "Output: false\n",
    "\n",
    "Example 3:\n",
    "Input: word1 = [\"abc\", \"d\", \"defg\"], word2 = [\"abcddefg\"]\n",
    "Output: true"
   ]
  },
  {
   "cell_type": "code",
   "execution_count": 3,
   "id": "39bdf2f8",
   "metadata": {},
   "outputs": [
    {
     "name": "stdout",
     "output_type": "stream",
     "text": [
      "True\n"
     ]
    }
   ],
   "source": [
    "word1 = [\"ab\",\"c\"]\n",
    "word2 = [\"a\",\"bc\"]\n",
    "\n",
    "x = \"\".join(word1)\n",
    "y = \"\".join(word2)\n",
    "\n",
    "if x==y:\n",
    "    print (\"True\")\n",
    "else: \n",
    "    print (\"False\")"
   ]
  },
  {
   "cell_type": "code",
   "execution_count": 4,
   "id": "1843f8bf",
   "metadata": {},
   "outputs": [
    {
     "name": "stdout",
     "output_type": "stream",
     "text": [
      "True\n"
     ]
    }
   ],
   "source": [
    "word1 = [\"abc\",\"def\",\"g\"]\n",
    "word2 = [\"abcdefg\"]\n",
    "\n",
    "x = \"\".join(word1)\n",
    "y = \"\".join(word2)\n",
    "\n",
    "if x==y:\n",
    "    print (\"True\")\n",
    "else: \n",
    "    print (\"False\")"
   ]
  },
  {
   "cell_type": "code",
   "execution_count": null,
   "id": "1c05db65",
   "metadata": {},
   "outputs": [],
   "source": []
  }
 ],
 "metadata": {
  "kernelspec": {
   "display_name": "Python 3",
   "language": "python",
   "name": "python3"
  },
  "language_info": {
   "codemirror_mode": {
    "name": "ipython",
    "version": 3
   },
   "file_extension": ".py",
   "mimetype": "text/x-python",
   "name": "python",
   "nbconvert_exporter": "python",
   "pygments_lexer": "ipython3",
   "version": "3.8.8"
  }
 },
 "nbformat": 4,
 "nbformat_minor": 5
}
